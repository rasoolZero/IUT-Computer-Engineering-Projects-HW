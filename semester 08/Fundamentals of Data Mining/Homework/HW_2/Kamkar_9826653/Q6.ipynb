{
 "cells": [
  {
   "cell_type": "code",
   "execution_count": 3,
   "id": "48c01669-0067-4182-a07f-d255b82ec9ad",
   "metadata": {},
   "outputs": [
    {
     "data": {
      "text/html": [
       "<div>\n",
       "<style scoped>\n",
       "    .dataframe tbody tr th:only-of-type {\n",
       "        vertical-align: middle;\n",
       "    }\n",
       "\n",
       "    .dataframe tbody tr th {\n",
       "        vertical-align: top;\n",
       "    }\n",
       "\n",
       "    .dataframe thead th {\n",
       "        text-align: right;\n",
       "    }\n",
       "</style>\n",
       "<table border=\"1\" class=\"dataframe\">\n",
       "  <thead>\n",
       "    <tr style=\"text-align: right;\">\n",
       "      <th></th>\n",
       "      <th>Class</th>\n",
       "      <th>Petal length</th>\n",
       "      <th>Sepal length</th>\n",
       "      <th>Sepal width</th>\n",
       "      <th>Petal width</th>\n",
       "    </tr>\n",
       "  </thead>\n",
       "  <tbody>\n",
       "    <tr>\n",
       "      <th>0</th>\n",
       "      <td>1</td>\n",
       "      <td>51</td>\n",
       "      <td>35</td>\n",
       "      <td>14</td>\n",
       "      <td>2</td>\n",
       "    </tr>\n",
       "    <tr>\n",
       "      <th>1</th>\n",
       "      <td>1</td>\n",
       "      <td>49</td>\n",
       "      <td>30</td>\n",
       "      <td>14</td>\n",
       "      <td>2</td>\n",
       "    </tr>\n",
       "    <tr>\n",
       "      <th>2</th>\n",
       "      <td>1</td>\n",
       "      <td>47</td>\n",
       "      <td>32</td>\n",
       "      <td>13</td>\n",
       "      <td>2</td>\n",
       "    </tr>\n",
       "    <tr>\n",
       "      <th>3</th>\n",
       "      <td>1</td>\n",
       "      <td>46</td>\n",
       "      <td>31</td>\n",
       "      <td>15</td>\n",
       "      <td>2</td>\n",
       "    </tr>\n",
       "    <tr>\n",
       "      <th>4</th>\n",
       "      <td>1</td>\n",
       "      <td>50</td>\n",
       "      <td>36</td>\n",
       "      <td>14</td>\n",
       "      <td>2</td>\n",
       "    </tr>\n",
       "  </tbody>\n",
       "</table>\n",
       "</div>"
      ],
      "text/plain": [
       "   Class  Petal length  Sepal length  Sepal width  Petal width\n",
       "0      1            51            35           14            2\n",
       "1      1            49            30           14            2\n",
       "2      1            47            32           13            2\n",
       "3      1            46            31           15            2\n",
       "4      1            50            36           14            2"
      ]
     },
     "execution_count": 3,
     "metadata": {},
     "output_type": "execute_result"
    }
   ],
   "source": [
    "#importing data\n",
    "import pandas as pd\n",
    "df = pd.read_csv(\"Iris.csv\")\n",
    "df = df.drop(\"Unnamed: 0\",axis = 1)\n",
    "df.head()"
   ]
  },
  {
   "cell_type": "code",
   "execution_count": 4,
   "id": "ce6fcb88-379a-4ab0-8905-48035074c2e8",
   "metadata": {},
   "outputs": [
    {
     "name": "stdout",
     "output_type": "stream",
     "text": [
      "(150, 4)\n",
      "(150,)\n"
     ]
    }
   ],
   "source": [
    "#splitting data into target and features\n",
    "from sklearn.model_selection import train_test_split\n",
    "x = df.drop(\"Class\",axis = 1)\n",
    "y = df[\"Class\"]\n",
    "x_train, x_test, y_train, y_test = train_test_split(x,y, test_size=0.2)\n",
    "\n",
    "print(x.shape)\n",
    "print(y.shape)\n"
   ]
  },
  {
   "cell_type": "code",
   "execution_count": 14,
   "id": "69c82e88-2290-4bbb-b680-dbc7ab06c23a",
   "metadata": {},
   "outputs": [
    {
     "name": "stderr",
     "output_type": "stream",
     "text": [
      "C:\\Python310\\lib\\site-packages\\sklearn\\svm\\_base.py:1244: ConvergenceWarning: Liblinear failed to converge, increase the number of iterations.\n",
      "  warnings.warn(\n"
     ]
    },
    {
     "name": "stdout",
     "output_type": "stream",
     "text": [
      "cv score mean : 0.8583333333333333\n"
     ]
    }
   ],
   "source": [
    "from sklearn.model_selection import LeaveOneOut,cross_val_score\n",
    "from sklearn.svm import LinearSVC\n",
    "from numpy import mean\n",
    "cv = LeaveOneOut()\n",
    "model = LinearSVC()\n",
    "model.fit(x_train,y_train)\n",
    "scores = cross_val_score(model, x_train, y_train,cv=cv, n_jobs=-1)\n",
    "print(\"cv score mean :\",mean(scores))"
   ]
  },
  {
   "cell_type": "code",
   "execution_count": 11,
   "id": "2d2cc16d-8800-410b-bd26-637ac7167c3d",
   "metadata": {},
   "outputs": [
    {
     "data": {
      "text/plain": [
       "0.9666666666666667"
      ]
     },
     "execution_count": 11,
     "metadata": {},
     "output_type": "execute_result"
    }
   ],
   "source": [
    "test_prediction = model.predict(x_test)\n",
    "from sklearn.metrics import accuracy_score\n",
    "accuracy_score(test_prediction,y_test)"
   ]
  },
  {
   "cell_type": "code",
   "execution_count": 13,
   "id": "58ec6d1b-685c-4170-bd6b-62f3720c7606",
   "metadata": {},
   "outputs": [
    {
     "data": {
      "text/plain": [
       "<AxesSubplot:title={'center':'SVM classification Confusion Matrix'}, xlabel='Predicted labels', ylabel='True labels'>"
      ]
     },
     "execution_count": 13,
     "metadata": {},
     "output_type": "execute_result"
    },
    {
     "data": {
      "image/png": "[encoded data removed]",
      "text/plain": [
       "<Figure size 432x288 with 2 Axes>"
      ]
     },
     "metadata": {
      "needs_background": "light"
     },
     "output_type": "display_data"
    }
   ],
   "source": [
    "from sklearn.metrics import confusion_matrix\n",
    "from matplotlib import pyplot as plt\n",
    "import seaborn as sns\n",
    "cm = confusion_matrix(y_test, test_prediction)\n",
    "ax = plt.subplot()\n",
    "sns.heatmap(cm, cmap='coolwarm',annot=True,fmt = \" \", ax = ax)\n",
    "ax.set_xlabel('Predicted labels')\n",
    "ax.set_ylabel('True labels')\n",
    "ax.set_title('SVM classification Confusion Matrix')\n",
    "ax"
   ]
  },
  {
   "cell_type": "code",
   "execution_count": 27,
   "id": "d23e05b3-90be-41f8-8859-d33706a03e6f",
   "metadata": {},
   "outputs": [
    {
     "name": "stdout",
     "output_type": "stream",
     "text": [
      "degree: 1 accuracy score: 1.0\n",
      "degree: 2 accuracy score: 1.0\n",
      "degree: 3 accuracy score: 0.9666666666666667\n",
      "degree: 4 accuracy score: 0.9666666666666667\n",
      "degree: 5 accuracy score: 0.9666666666666667\n",
      "degree: 6 accuracy score: 0.9666666666666667\n",
      "degree: 7 accuracy score: 0.9666666666666667\n",
      "degree: 8 accuracy score: 0.9666666666666667\n",
      "degree: 9 accuracy score: 0.9333333333333333\n",
      "degree: 10 accuracy score: 0.9333333333333333\n"
     ]
    },
    {
     "data": {
      "image/png": "[encoded data removed]",
      "text/plain": [
       "<Figure size 1008x432 with 1 Axes>"
      ]
     },
     "metadata": {
      "needs_background": "light"
     },
     "output_type": "display_data"
    }
   ],
   "source": [
    "from sklearn.svm import SVC\n",
    "prediction_accuracy=[]\n",
    "best_accuracy = 0\n",
    "best_prediction = None\n",
    "\n",
    "\n",
    "for degree in range(1,11):\n",
    "    svc = SVC(kernel = 'poly',degree=degree)\n",
    "    svc.fit(x_train,y_train)\n",
    "    prediction = svc.predict(x_test)\n",
    "    score = accuracy_score(prediction,y_test)\n",
    "    print(\"degree:\", degree,\"accuracy score:\",score)\n",
    "    prediction_accuracy.append([degree,score])\n",
    "    if score > best_accuracy:\n",
    "        best_accuracy = score\n",
    "        best_prediction = prediction.copy()\n",
    "\n",
    "import math\n",
    "accuracy_df = pd.DataFrame(prediction_accuracy,columns=['degree','accuracy'])\n",
    "accuracies = accuracy_df.loc[:,\"accuracy\"].values.tolist()\n",
    "max_y_lim = max(accuracies) + .05\n",
    "min_y_lim = min(accuracies) - .05\n",
    "ax = accuracy_df.plot.bar(title='Accuracy of poly SVC based on different degrees',x='degree',figsize=(14,6),ylim=[min_y_lim,max_y_lim])"
   ]
  },
  {
   "cell_type": "code",
   "execution_count": 28,
   "id": "438ac848-a748-4a74-9d3c-8339d017af89",
   "metadata": {},
   "outputs": [
    {
     "data": {
      "text/plain": [
       "<AxesSubplot:title={'center':'SVM classification Confusion Matrix (best degree)'}, xlabel='Predicted labels', ylabel='True labels'>"
      ]
     },
     "execution_count": 28,
     "metadata": {},
     "output_type": "execute_result"
    },
    {
     "data": {
      "image/png": "[encoded data removed]",
      "text/plain": [
       "<Figure size 432x288 with 2 Axes>"
      ]
     },
     "metadata": {
      "needs_background": "light"
     },
     "output_type": "display_data"
    }
   ],
   "source": [
    "from sklearn.metrics import confusion_matrix\n",
    "from matplotlib import pyplot as plt\n",
    "import seaborn as sns\n",
    "cm = confusion_matrix(y_test, best_prediction)\n",
    "ax = plt.subplot()\n",
    "sns.heatmap(cm, cmap='coolwarm',annot=True,fmt = \" \", ax = ax)\n",
    "ax.set_xlabel('Predicted labels')\n",
    "ax.set_ylabel('True labels')\n",
    "ax.set_title('SVM classification Confusion Matrix (best degree)')\n",
    "ax"
   ]
  }
 ],
 "metadata": {
  "kernelspec": {
   "display_name": "Python 3 (ipykernel)",
   "language": "python",
   "name": "python3"
  },
  "language_info": {
   "codemirror_mode": {
    "name": "ipython",
    "version": 3
   },
   "file_extension": ".py",
   "mimetype": "text/x-python",
   "name": "python",
   "nbconvert_exporter": "python",
   "pygments_lexer": "ipython3",
   "version": "3.10.3"
  }
 },
 "nbformat": 4,
 "nbformat_minor": 5
}
