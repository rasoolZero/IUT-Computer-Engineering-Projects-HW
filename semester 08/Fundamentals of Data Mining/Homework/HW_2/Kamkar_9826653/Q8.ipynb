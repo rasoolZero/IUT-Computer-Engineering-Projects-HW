{
 "cells": [
  {
   "cell_type": "code",
   "execution_count": 1,
   "id": "48c01669-0067-4182-a07f-d255b82ec9ad",
   "metadata": {},
   "outputs": [
    {
     "data": {
      "text/html": [
       "<div>\n",
       "<style scoped>\n",
       "    .dataframe tbody tr th:only-of-type {\n",
       "        vertical-align: middle;\n",
       "    }\n",
       "\n",
       "    .dataframe tbody tr th {\n",
       "        vertical-align: top;\n",
       "    }\n",
       "\n",
       "    .dataframe thead th {\n",
       "        text-align: right;\n",
       "    }\n",
       "</style>\n",
       "<table border=\"1\" class=\"dataframe\">\n",
       "  <thead>\n",
       "    <tr style=\"text-align: right;\">\n",
       "      <th></th>\n",
       "      <th>Class</th>\n",
       "      <th>Petal length</th>\n",
       "      <th>Sepal length</th>\n",
       "      <th>Sepal width</th>\n",
       "      <th>Petal width</th>\n",
       "    </tr>\n",
       "  </thead>\n",
       "  <tbody>\n",
       "    <tr>\n",
       "      <th>0</th>\n",
       "      <td>1</td>\n",
       "      <td>51</td>\n",
       "      <td>35</td>\n",
       "      <td>14</td>\n",
       "      <td>2</td>\n",
       "    </tr>\n",
       "    <tr>\n",
       "      <th>1</th>\n",
       "      <td>1</td>\n",
       "      <td>49</td>\n",
       "      <td>30</td>\n",
       "      <td>14</td>\n",
       "      <td>2</td>\n",
       "    </tr>\n",
       "    <tr>\n",
       "      <th>2</th>\n",
       "      <td>1</td>\n",
       "      <td>47</td>\n",
       "      <td>32</td>\n",
       "      <td>13</td>\n",
       "      <td>2</td>\n",
       "    </tr>\n",
       "    <tr>\n",
       "      <th>3</th>\n",
       "      <td>1</td>\n",
       "      <td>46</td>\n",
       "      <td>31</td>\n",
       "      <td>15</td>\n",
       "      <td>2</td>\n",
       "    </tr>\n",
       "    <tr>\n",
       "      <th>4</th>\n",
       "      <td>1</td>\n",
       "      <td>50</td>\n",
       "      <td>36</td>\n",
       "      <td>14</td>\n",
       "      <td>2</td>\n",
       "    </tr>\n",
       "  </tbody>\n",
       "</table>\n",
       "</div>"
      ],
      "text/plain": [
       "   Class  Petal length  Sepal length  Sepal width  Petal width\n",
       "0      1            51            35           14            2\n",
       "1      1            49            30           14            2\n",
       "2      1            47            32           13            2\n",
       "3      1            46            31           15            2\n",
       "4      1            50            36           14            2"
      ]
     },
     "execution_count": 1,
     "metadata": {},
     "output_type": "execute_result"
    }
   ],
   "source": [
    "import pandas as pd\n",
    "df = pd.read_csv(\"Iris.csv\")\n",
    "df = df.drop(\"Unnamed: 0\",axis = 1)\n",
    "df.head()"
   ]
  },
  {
   "cell_type": "code",
   "execution_count": 2,
   "id": "ce6fcb88-379a-4ab0-8905-48035074c2e8",
   "metadata": {},
   "outputs": [
    {
     "name": "stdout",
     "output_type": "stream",
     "text": [
      "(150, 4)\n",
      "(150,)\n"
     ]
    }
   ],
   "source": [
    "x = df.drop(\"Class\",axis = 1)\n",
    "y = df[\"Class\"]\n",
    "print(x.shape)\n",
    "print(y.shape)"
   ]
  },
  {
   "cell_type": "code",
   "execution_count": 3,
   "id": "69c82e88-2290-4bbb-b680-dbc7ab06c23a",
   "metadata": {},
   "outputs": [
    {
     "name": "stdout",
     "output_type": "stream",
     "text": [
      "(120, 4)\n",
      "(30, 4)\n",
      "(120,)\n",
      "(30,)\n"
     ]
    }
   ],
   "source": [
    "from sklearn.model_selection import train_test_split\n",
    "from sklearn.preprocessing import StandardScaler\n",
    "scaler = StandardScaler()\n",
    "\n",
    "columns = x.columns\n",
    "x = pd.DataFrame(scaler.fit_transform(x),columns = columns)\n",
    "normal_df = pd.concat([x,y],axis=1)\n",
    "\n",
    "\n",
    "# train, test = train_test_split(normal_df, test_size=0.2)\n",
    "x_train,x_test,y_train,y_test = train_test_split(x,y,test_size=0.2)\n",
    "print(x_train.shape)\n",
    "print(x_test.shape)\n",
    "print(y_train.shape)\n",
    "print(y_test.shape)"
   ]
  },
  {
   "cell_type": "code",
   "execution_count": 4,
   "id": "2d2cc16d-8800-410b-bd26-637ac7167c3d",
   "metadata": {},
   "outputs": [
    {
     "name": "stdout",
     "output_type": "stream",
     "text": [
      "0.9666666666666667\n",
      "0.9333333333333333\n",
      "0.9333333333333333\n",
      "0.9333333333333333\n",
      "0.9666666666666667\n",
      "0.9333333333333333\n",
      "0.9666666666666667\n",
      "0.9666666666666667\n",
      "0.9666666666666667\n",
      "0.9666666666666667\n",
      "0.9666666666666667\n",
      "0.9666666666666667\n",
      "0.9666666666666667\n",
      "0.9666666666666667\n",
      "0.9666666666666667\n",
      "0.9666666666666667\n",
      "0.9666666666666667\n",
      "0.9666666666666667\n",
      "0.9666666666666667\n",
      "0.9666666666666667\n",
      "0.9666666666666667\n",
      "0.9666666666666667\n",
      "0.9666666666666667\n",
      "0.9666666666666667\n",
      "0.9333333333333333\n",
      "0.9333333333333333\n",
      "0.9333333333333333\n",
      "0.9333333333333333\n",
      "0.9\n",
      "0.9333333333333333\n"
     ]
    }
   ],
   "source": [
    "#1 KDTree\n",
    "# function for majority vote selection\n",
    "def most_frequent(List : list):\n",
    "    return max(set(List), key = List.count)\n",
    "\n",
    "from sklearn.neighbors import KDTree\n",
    "from sklearn.metrics import accuracy_score\n",
    "kdtree = KDTree(x_train)\n",
    "\n",
    "k_accuarcy_scores = []\n",
    "\n",
    "highest_accuracy = 0\n",
    "best_prediction = None\n",
    "\n",
    "for k in range(1,31):\n",
    "    # getting the k nearest indexes to x_test from kdtree\n",
    "    query_result_indexes = kdtree.query(x_test,k=k,return_distance=False)\n",
    "\n",
    "    # getting the Class of those k nearest indexes, then use majority vote and append it to the test prediction\n",
    "    test_prediction=[]\n",
    "    for row in query_result_indexes:\n",
    "        result = most_frequent(y_train.loc[y_train.index[row]].tolist())\n",
    "        test_prediction.append(result)\n",
    "    test_prediction = pd.DataFrame(test_prediction,columns = ['Predicted Class'])\n",
    "\n",
    "    # calculating the accuracty using test prediction and actual test values\n",
    "    accuracy = accuracy_score(test_prediction,y_test)\n",
    "    print(accuracy)\n",
    "    k_accuarcy_scores.append([k,accuracy])\n",
    "    if accuracy > highest_accuracy:\n",
    "        highest_accuracy = accuracy\n",
    "        best_prediction = test_prediction.copy()"
   ]
  },
  {
   "cell_type": "code",
   "execution_count": 5,
   "id": "fb840a85-4cb2-4bc4-96fc-2c89686aa4cc",
   "metadata": {},
   "outputs": [
    {
     "data": {
      "image/png": "[encoded data removed]",
      "text/plain": [
       "<Figure size 1008x432 with 1 Axes>"
      ]
     },
     "metadata": {
      "needs_background": "light"
     },
     "output_type": "display_data"
    }
   ],
   "source": [
    "#1 plotting the accuracy for each k in KDTree\n",
    "import math\n",
    "accuracy_df = pd.DataFrame(k_accuarcy_scores,columns=['k','accuracy'])\n",
    "accuracies = accuracy_df.loc[:,\"accuracy\"].values.tolist()\n",
    "max_y_lim = max(accuracies) + .05\n",
    "min_y_lim = min(accuracies) - .05\n",
    "ax = accuracy_df.plot.bar(title='Accuracy of KDTree based on different K values',x='k',figsize=(14,6),ylim=[min_y_lim,max_y_lim])"
   ]
  },
  {
   "cell_type": "code",
   "execution_count": 6,
   "id": "3a9f3525-d5dd-49b9-8cca-3118b4b69d17",
   "metadata": {},
   "outputs": [
    {
     "data": {
      "text/plain": [
       "<AxesSubplot:title={'center':'KDTree Confusion Matrix'}, xlabel='Predicted labels', ylabel='True labels'>"
      ]
     },
     "execution_count": 6,
     "metadata": {},
     "output_type": "execute_result"
    },
    {
     "data": {
      "image/png": "[encoded data removed]",
      "text/plain": [
       "<Figure size 432x288 with 2 Axes>"
      ]
     },
     "metadata": {
      "needs_background": "light"
     },
     "output_type": "display_data"
    }
   ],
   "source": [
    "#1 plotting the confusion matrix for the best prediction of KDTree\n",
    "from sklearn.metrics import confusion_matrix\n",
    "from matplotlib import pyplot as plt\n",
    "import seaborn as sns\n",
    "cm = confusion_matrix(y_test, best_prediction)\n",
    "ax = plt.subplot()\n",
    "sns.heatmap(cm, cmap='coolwarm',annot=True,fmt = \" \", ax = ax)\n",
    "ax.set_xlabel('Predicted labels')\n",
    "ax.set_ylabel('True labels')\n",
    "ax.set_title('KDTree Confusion Matrix')\n",
    "ax"
   ]
  },
  {
   "cell_type": "code",
   "execution_count": 7,
   "id": "a84d2b41-dd9d-4b9f-ac2d-b1c4f007aa5f",
   "metadata": {},
   "outputs": [
    {
     "name": "stdout",
     "output_type": "stream",
     "text": [
      "0.9666666666666667\n",
      "0.9333333333333333\n",
      "0.9333333333333333\n",
      "0.9333333333333333\n",
      "0.9666666666666667\n",
      "0.9333333333333333\n",
      "0.9666666666666667\n",
      "0.9666666666666667\n",
      "0.9666666666666667\n",
      "0.9666666666666667\n",
      "0.9666666666666667\n",
      "0.9666666666666667\n",
      "0.9666666666666667\n",
      "0.9666666666666667\n",
      "0.9666666666666667\n",
      "0.9666666666666667\n",
      "0.9666666666666667\n",
      "0.9666666666666667\n",
      "0.9666666666666667\n",
      "0.9666666666666667\n",
      "0.9666666666666667\n",
      "0.9666666666666667\n",
      "0.9666666666666667\n",
      "0.9666666666666667\n",
      "0.9333333333333333\n",
      "0.9333333333333333\n",
      "0.9333333333333333\n",
      "0.9333333333333333\n",
      "0.9\n",
      "0.9333333333333333\n"
     ]
    }
   ],
   "source": [
    "#2 BallTree\n",
    "\n",
    "from sklearn.neighbors import BallTree\n",
    "balltree = BallTree(x_train)\n",
    "\n",
    "k_accuarcy_scores = []\n",
    "\n",
    "highest_accuracy = 0\n",
    "best_prediction = None\n",
    "\n",
    "for k in range(1,31):\n",
    "    # getting the k nearest indexes to x_test from balltree\n",
    "    query_result_indexes = balltree.query(x_test,k=k,return_distance=False)\n",
    "\n",
    "    # getting the Class of those k nearest indexes, then use majority vote and append it to the test prediction\n",
    "    test_prediction=[]\n",
    "    for row in query_result_indexes:\n",
    "        result = most_frequent(y_train.loc[y_train.index[row]].tolist())\n",
    "        test_prediction.append(result)\n",
    "    test_prediction = pd.DataFrame(test_prediction,columns = ['Predicted Class'])\n",
    "\n",
    "    # calculating the accuracty using test prediction and actual test values\n",
    "    accuracy = accuracy_score(test_prediction,y_test)\n",
    "    print(accuracy)\n",
    "    k_accuarcy_scores.append([k,accuracy])\n",
    "    if accuracy > highest_accuracy:\n",
    "        highest_accuracy = accuracy\n",
    "        best_prediction = test_prediction.copy()"
   ]
  },
  {
   "cell_type": "code",
   "execution_count": 8,
   "id": "5eee0e56-db51-45b4-bd58-70d957501d14",
   "metadata": {},
   "outputs": [
    {
     "data": {
      "image/png": "[encoded data removed]",
      "text/plain": [
       "<Figure size 1008x432 with 1 Axes>"
      ]
     },
     "metadata": {
      "needs_background": "light"
     },
     "output_type": "display_data"
    }
   ],
   "source": [
    "#1 plotting the accuracy for each k in BallTree\n",
    "import math\n",
    "accuracy_df = pd.DataFrame(k_accuarcy_scores,columns=['k','accuracy'])\n",
    "accuracies = accuracy_df.loc[:,\"accuracy\"].values.tolist()\n",
    "max_y_lim = max(accuracies) + .05\n",
    "min_y_lim = min(accuracies) - .05\n",
    "ax = accuracy_df.plot.bar(title='Accuracy of BallTree based on different K values',x='k',figsize=(14,6),ylim=[min_y_lim,max_y_lim])"
   ]
  },
  {
   "cell_type": "code",
   "execution_count": 9,
   "id": "a150af63-20b1-4a96-b5cd-2d31935a0f42",
   "metadata": {},
   "outputs": [
    {
     "data": {
      "text/plain": [
       "<AxesSubplot:title={'center':'BallTree Confusion Matrix'}, xlabel='Predicted labels', ylabel='True labels'>"
      ]
     },
     "execution_count": 9,
     "metadata": {},
     "output_type": "execute_result"
    },
    {
     "data": {
      "image/png": "[encoded data removed]",
      "text/plain": [
       "<Figure size 432x288 with 2 Axes>"
      ]
     },
     "metadata": {
      "needs_background": "light"
     },
     "output_type": "display_data"
    }
   ],
   "source": [
    "#1 plotting the confusion matrix for the best prediction of BallTree\n",
    "import seaborn as sns\n",
    "cm = confusion_matrix(y_test, best_prediction)\n",
    "ax = plt.subplot()\n",
    "sns.heatmap(cm, cmap='coolwarm',annot=True,fmt = \" \", ax = ax)\n",
    "ax.set_xlabel('Predicted labels')\n",
    "ax.set_ylabel('True labels')\n",
    "ax.set_title('BallTree Confusion Matrix')\n",
    "ax"
   ]
  }
 ],
 "metadata": {
  "kernelspec": {
   "display_name": "Python 3 (ipykernel)",
   "language": "python",
   "name": "python3"
  },
  "language_info": {
   "codemirror_mode": {
    "name": "ipython",
    "version": 3
   },
   "file_extension": ".py",
   "mimetype": "text/x-python",
   "name": "python",
   "nbconvert_exporter": "python",
   "pygments_lexer": "ipython3",
   "version": "3.10.3"
  }
 },
 "nbformat": 4,
 "nbformat_minor": 5
}
